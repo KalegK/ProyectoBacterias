{
 "cells": [
  {
   "cell_type": "code",
   "execution_count": 32,
   "id": "662acaf1",
   "metadata": {},
   "outputs": [
    {
     "data": {
      "text/plain": [
       "['Muestras\\\\ffd5d5f5-8814-4f4c-9d3d-e3f79bd27406.txt',\n",
       " 'Muestras\\\\ffe0a561-85df-4480-ba08-d42020f40c01.txt',\n",
       " 'Muestras\\\\ffe9ec1e-6661-44e2-aee1-f997a9f1429d.txt',\n",
       " 'Muestras\\\\ffedd497-0940-4671-aaf4-6c414e3b8391.txt',\n",
       " 'Muestras\\\\ffeeece9-0608-4826-b9eb-1be874476538.txt']"
      ]
     },
     "execution_count": 32,
     "metadata": {},
     "output_type": "execute_result"
    }
   ],
   "source": [
    "import pandas as pd\n",
    "import numpy as np\n",
    "from glob import glob \n",
    "import re\n",
    "import sys\n",
    "\n",
    "files=[]\n",
    "files=glob('Muestras/*.txt')\n",
    "files"
   ]
  },
  {
   "cell_type": "code",
   "execution_count": 33,
   "id": "e42150c2",
   "metadata": {},
   "outputs": [
    {
     "name": "stdout",
     "output_type": "stream",
     "text": [
      "<class 'pandas.core.frame.DataFrame'>\n"
     ]
    },
    {
     "data": {
      "text/plain": [
       "[       intensity\n",
       " 0           3533\n",
       " 1           3443\n",
       " 2           3318\n",
       " 3           3502\n",
       " 4           3590\n",
       " ...          ...\n",
       " 20823          6\n",
       " 20824         13\n",
       " 20825         10\n",
       " 20826          8\n",
       " 20827          6\n",
       " \n",
       " [20828 rows x 1 columns],\n",
       "        intensity\n",
       " 0          13493\n",
       " 1          13230\n",
       " 2          13173\n",
       " 3          12908\n",
       " 4          13005\n",
       " ...          ...\n",
       " 20823        129\n",
       " 20824        150\n",
       " 20825        174\n",
       " 20826        210\n",
       " 20827        203\n",
       " \n",
       " [20828 rows x 1 columns],\n",
       "        intensity\n",
       " 0           4468\n",
       " 1           4740\n",
       " 2           4883\n",
       " 3           5182\n",
       " 4           5519\n",
       " ...          ...\n",
       " 20869         38\n",
       " 20870         25\n",
       " 20871         23\n",
       " 20872         47\n",
       " 20873         42\n",
       " \n",
       " [20874 rows x 1 columns],\n",
       "        intensity\n",
       " 0           1612\n",
       " 1           1622\n",
       " 2           1628\n",
       " 3           1618\n",
       " 4           1664\n",
       " ...          ...\n",
       " 20871        226\n",
       " 20872        232\n",
       " 20873        227\n",
       " 20874        199\n",
       " 20875        214\n",
       " \n",
       " [20876 rows x 1 columns],\n",
       "        intensity\n",
       " 0           3922\n",
       " 1           4255\n",
       " 2           4427\n",
       " 3           4388\n",
       " 4           4109\n",
       " ...          ...\n",
       " 20809          3\n",
       " 20810          4\n",
       " 20811          3\n",
       " 20812          7\n",
       " 20813         13\n",
       " \n",
       " [20814 rows x 1 columns]]"
      ]
     },
     "execution_count": 33,
     "metadata": {},
     "output_type": "execute_result"
    }
   ],
   "source": [
    "datas=[]\n",
    "for file in files:\n",
    "    df=pd.read_csv(file, names=['mass','intensity'],sep=' ',skiprows=3)\n",
    "    del df['mass']\n",
    "    datas.append(df)\n",
    "print(type(datas[0]))\n",
    "#se crea datas, que corresponde a una lista de dataframes\n",
    "datas\n",
    "\n",
    "\n"
   ]
  },
  {
   "cell_type": "code",
   "execution_count": 34,
   "id": "2d3fa42d",
   "metadata": {},
   "outputs": [
    {
     "name": "stderr",
     "output_type": "stream",
     "text": [
      "c:\\users\\kukya\\appdata\\local\\programs\\python\\python39\\lib\\site-packages\\pandas\\core\\internals\\construction.py:576: VisibleDeprecationWarning: Creating an ndarray from ragged nested sequences (which is a list-or-tuple of lists-or-tuples-or ndarrays with different lengths or shapes) is deprecated. If you meant to do this, you must specify 'dtype=object' when creating the ndarray.\n",
      "  values = np.array([convert(v) for v in values])\n"
     ]
    },
    {
     "data": {
      "text/html": [
       "<div>\n",
       "<style scoped>\n",
       "    .dataframe tbody tr th:only-of-type {\n",
       "        vertical-align: middle;\n",
       "    }\n",
       "\n",
       "    .dataframe tbody tr th {\n",
       "        vertical-align: top;\n",
       "    }\n",
       "\n",
       "    .dataframe thead th {\n",
       "        text-align: right;\n",
       "    }\n",
       "</style>\n",
       "<table border=\"1\" class=\"dataframe\">\n",
       "  <thead>\n",
       "    <tr style=\"text-align: right;\">\n",
       "      <th></th>\n",
       "      <th>0</th>\n",
       "    </tr>\n",
       "  </thead>\n",
       "  <tbody>\n",
       "    <tr>\n",
       "      <th>0</th>\n",
       "      <td>intensity\n",
       "0           3533\n",
       "1           ...</td>\n",
       "    </tr>\n",
       "    <tr>\n",
       "      <th>1</th>\n",
       "      <td>intensity\n",
       "0          13493\n",
       "1          1...</td>\n",
       "    </tr>\n",
       "    <tr>\n",
       "      <th>2</th>\n",
       "      <td>intensity\n",
       "0           4468\n",
       "1           ...</td>\n",
       "    </tr>\n",
       "    <tr>\n",
       "      <th>3</th>\n",
       "      <td>intensity\n",
       "0           1612\n",
       "1           ...</td>\n",
       "    </tr>\n",
       "    <tr>\n",
       "      <th>4</th>\n",
       "      <td>intensity\n",
       "0           3922\n",
       "1           ...</td>\n",
       "    </tr>\n",
       "  </tbody>\n",
       "</table>\n",
       "</div>"
      ],
      "text/plain": [
       "                                                   0\n",
       "0         intensity\n",
       "0           3533\n",
       "1           ...\n",
       "1         intensity\n",
       "0          13493\n",
       "1          1...\n",
       "2         intensity\n",
       "0           4468\n",
       "1           ...\n",
       "3         intensity\n",
       "0           1612\n",
       "1           ...\n",
       "4         intensity\n",
       "0           3922\n",
       "1           ..."
      ]
     },
     "execution_count": 34,
     "metadata": {},
     "output_type": "execute_result"
    }
   ],
   "source": [
    "#df_datas es una dataframe que contiene en cada fila las intensidades de una  muestra\n",
    "df_datas=pd.DataFrame(datas)\n",
    "df_datas"
   ]
  },
  {
   "cell_type": "code",
   "execution_count": 47,
   "id": "1eacf9a0",
   "metadata": {
    "scrolled": true
   },
   "outputs": [
    {
     "name": "stdout",
     "output_type": "stream",
     "text": [
      "[[3533]\n",
      " [3443]\n",
      " [3318]\n",
      " ...\n",
      " [  10]\n",
      " [   8]\n",
      " [   6]]\n",
      "[[13493]\n",
      " [13230]\n",
      " [13173]\n",
      " ...\n",
      " [  174]\n",
      " [  210]\n",
      " [  203]]\n",
      "[[4468]\n",
      " [4740]\n",
      " [4883]\n",
      " ...\n",
      " [  23]\n",
      " [  47]\n",
      " [  42]]\n",
      "[[1612]\n",
      " [1622]\n",
      " [1628]\n",
      " ...\n",
      " [ 227]\n",
      " [ 199]\n",
      " [ 214]]\n",
      "[[3922]\n",
      " [4255]\n",
      " [4427]\n",
      " ...\n",
      " [   3]\n",
      " [   7]\n",
      " [  13]]\n"
     ]
    }
   ],
   "source": [
    "import csv\n",
    "with open(\"output.csv\", \"w\", newline=\"\") as f:\n",
    "    for data in datas:\n",
    "        print(data.values)\n",
    "        writer = csv.writer(f, delimiter=',')\n",
    "        writer.writerow(data)\n",
    "        "
   ]
  },
  {
   "cell_type": "code",
   "execution_count": 48,
   "id": "39a965cb",
   "metadata": {},
   "outputs": [],
   "source": [
    "output=pd.read_csv('output.csv', on_bad_lines='skip')"
   ]
  },
  {
   "cell_type": "code",
   "execution_count": 49,
   "id": "245cb437",
   "metadata": {},
   "outputs": [
    {
     "data": {
      "text/html": [
       "<div>\n",
       "<style scoped>\n",
       "    .dataframe tbody tr th:only-of-type {\n",
       "        vertical-align: middle;\n",
       "    }\n",
       "\n",
       "    .dataframe tbody tr th {\n",
       "        vertical-align: top;\n",
       "    }\n",
       "\n",
       "    .dataframe thead th {\n",
       "        text-align: right;\n",
       "    }\n",
       "</style>\n",
       "<table border=\"1\" class=\"dataframe\">\n",
       "  <thead>\n",
       "    <tr style=\"text-align: right;\">\n",
       "      <th></th>\n",
       "      <th>intensity</th>\n",
       "    </tr>\n",
       "  </thead>\n",
       "  <tbody>\n",
       "    <tr>\n",
       "      <th>0</th>\n",
       "      <td>intensity</td>\n",
       "    </tr>\n",
       "    <tr>\n",
       "      <th>1</th>\n",
       "      <td>intensity</td>\n",
       "    </tr>\n",
       "    <tr>\n",
       "      <th>2</th>\n",
       "      <td>intensity</td>\n",
       "    </tr>\n",
       "    <tr>\n",
       "      <th>3</th>\n",
       "      <td>intensity</td>\n",
       "    </tr>\n",
       "  </tbody>\n",
       "</table>\n",
       "</div>"
      ],
      "text/plain": [
       "   intensity\n",
       "0  intensity\n",
       "1  intensity\n",
       "2  intensity\n",
       "3  intensity"
      ]
     },
     "execution_count": 49,
     "metadata": {},
     "output_type": "execute_result"
    }
   ],
   "source": [
    "output=output.replace(\"\",0)\n",
    "output=output.replace(\"\",\"\")\n",
    "output=output.replace(np.nan,0)\n",
    "output"
   ]
  },
  {
   "cell_type": "code",
   "execution_count": null,
   "id": "29334f03",
   "metadata": {},
   "outputs": [],
   "source": []
  }
 ],
 "metadata": {
  "kernelspec": {
   "display_name": "Python 3 (ipykernel)",
   "language": "python",
   "name": "python3"
  },
  "language_info": {
   "codemirror_mode": {
    "name": "ipython",
    "version": 3
   },
   "file_extension": ".py",
   "mimetype": "text/x-python",
   "name": "python",
   "nbconvert_exporter": "python",
   "pygments_lexer": "ipython3",
   "version": "3.9.6"
  }
 },
 "nbformat": 4,
 "nbformat_minor": 5
}
